{
  "nbformat": 4,
  "nbformat_minor": 0,
  "metadata": {
    "colab": {
      "provenance": [],
      "authorship_tag": "ABX9TyOp7+Y2KMBifXmec4RaPj18",
      "include_colab_link": true
    },
    "kernelspec": {
      "name": "python3",
      "display_name": "Python 3"
    },
    "language_info": {
      "name": "python"
    }
  },
  "cells": [
    {
      "cell_type": "markdown",
      "metadata": {
        "id": "view-in-github",
        "colab_type": "text"
      },
      "source": [
        "<a href=\"https://colab.research.google.com/github/thotasriharsha/STML/blob/main/STML_ASS1.ipynb\" target=\"_parent\"><img src=\"https://colab.research.google.com/assets/colab-badge.svg\" alt=\"Open In Colab\"/></a>"
      ]
    },
    {
      "cell_type": "code",
      "execution_count": 1,
      "metadata": {
        "colab": {
          "base_uri": "https://localhost:8080/",
          "height": 430
        },
        "id": "fSCn-MoIqD5Q",
        "outputId": "72c76f51-f4b2-4439-a24c-a98764cbcbe4"
      },
      "outputs": [
        {
          "output_type": "display_data",
          "data": {
            "text/plain": [
              "<Figure size 640x480 with 1 Axes>"
            ],
            "image/png": "[encoded data removed]"
          },
          "metadata": {}
        }
      ],
      "source": [
        "import matplotlib.pyplot as plt\n",
        "import numpy as np\n",
        "\n",
        "x = np.array([2.3,2.5,3.6,2.8,3.1,2.9,3.2,2.7,2.8,3.0])\n",
        "bins = 5\n",
        "plt.hist(x,bins,color='blue')\n",
        "plt.show()"
      ]
    },
    {
      "cell_type": "code",
      "source": [
        "import numpy as np\n",
        "import pandas as pd\n",
        "import scipy as sc\n",
        "import statistics as stat\n",
        "from scipy.stats import skew\n",
        "from scipy.stats import kurtosis\n",
        "from scipy.stats import iqr\n",
        "dependent_var = np.array([4,5,8,2,4,2,5])\n",
        "independent_var = np.array([5,6,3,8,3,7,8])\n",
        ""
      ],
      "metadata": {
        "id": "DwgTGoAEqXYX"
      },
      "execution_count": 2,
      "outputs": []
    },
    {
      "cell_type": "code",
      "source": [
        "print(\"Mean value of dependent_var\")\n",
        "print(np.mean(dependent_var))\n",
        "print(\"Mean value of independent_var\" )\n",
        "print(np.mean(independent_var))\n",
        "print(\"Mean value of dependent var+independent_var\" )\n",
        "print(np.mean(dependent_var+independent_var))"
      ],
      "metadata": {
        "colab": {
          "base_uri": "https://localhost:8080/"
        },
        "id": "g4ckpRRXqbxu",
        "outputId": "c254b3f8-aa03-40b9-a5a4-526b8170f357"
      },
      "execution_count": 3,
      "outputs": [
        {
          "output_type": "stream",
          "name": "stdout",
          "text": [
            "Mean value of dependent_var\n",
            "4.285714285714286\n",
            "Mean value of independent_var\n",
            "5.714285714285714\n",
            "Mean value of dependent var+independent_var\n",
            "10.0\n"
          ]
        }
      ]
    },
    {
      "cell_type": "code",
      "source": [
        "print(\"Median value of dependent_var\")\n",
        "print(np.median(dependent_var))\n",
        "print(\"Median value of independent_var\")\n",
        "print(np.median(independent_var))\n",
        "print(\"Median value of dependent_var+independent_var\")\n",
        "print(np.median(dependent_var+independent_var))"
      ],
      "metadata": {
        "colab": {
          "base_uri": "https://localhost:8080/"
        },
        "id": "XQaHZLMKqe0_",
        "outputId": "2c2a02de-0501-4a70-bd4b-bfebb50f862e"
      },
      "execution_count": 4,
      "outputs": [
        {
          "output_type": "stream",
          "name": "stdout",
          "text": [
            "Median value of dependent_var\n",
            "4.0\n",
            "Median value of independent_var\n",
            "6.0\n",
            "Median value of dependent_var+independent_var\n",
            "10.0\n"
          ]
        }
      ]
    },
    {
      "cell_type": "code",
      "source": [
        "\n",
        "\n",
        "def find_mode(arr):\n",
        " counts = np.bincount(arr)\n",
        " mode = np.argmax(counts)\n",
        " return mode\n",
        "mode_dependent = find_mode(dependent_var)\n",
        "mode_independent = find_mode(independent_var)\n",
        "print(\"Mode for dependent_var:\",mode_dependent)\n",
        "print(\"Mode for independent_var:\",mode_independent)\n",
        "print(\"Mode for dependent_var+independent_var:\",mode_dependent+mode_independent)"
      ],
      "metadata": {
        "colab": {
          "base_uri": "https://localhost:8080/"
        },
        "id": "pqlJK8ugqjoB",
        "outputId": "1ede1f69-d3b1-41f4-d1b2-f7958fa6722b"
      },
      "execution_count": 5,
      "outputs": [
        {
          "output_type": "stream",
          "name": "stdout",
          "text": [
            "Mode for dependent_var: 2\n",
            "Mode for independent_var: 3\n",
            "Mode for dependent_var+independent_var: 5\n"
          ]
        }
      ]
    },
    {
      "cell_type": "code",
      "source": [
        "print(\"Variance of dependent_var:\")\n",
        "print(np.var(dependent_var))\n",
        "print(\"Variance of independent_var:\")\n",
        "print(np.var(independent_var))\n",
        "print(\"Variance of dependent_var+independent_var:\")\n",
        "print(np.var(dependent_var+independent_var))\n"
      ],
      "metadata": {
        "colab": {
          "base_uri": "https://localhost:8080/"
        },
        "id": "Dvm87w0iqnEl",
        "outputId": "b46dab18-7749-4b74-dd6e-5a2bff1b4019"
      },
      "execution_count": 6,
      "outputs": [
        {
          "output_type": "stream",
          "name": "stdout",
          "text": [
            "Variance of dependent_var:\n",
            "3.6326530612244894\n",
            "Variance of independent_var:\n",
            "3.918367346938776\n",
            "Variance of dependent_var+independent_var:\n",
            "3.142857142857143\n"
          ]
        }
      ]
    },
    {
      "cell_type": "code",
      "source": [
        "print(\"Standard Deviation of dependent_var:\")\n",
        "print(np.std(dependent_var))\n",
        "print(\"Standard Deviation of independent_var:\")\n",
        "print(np.std(independent_var))\n",
        "print(\"Standard Deviation of dependent_var+independent_var:\")\n",
        "print(np.std(dependent_var+independent_var))"
      ],
      "metadata": {
        "colab": {
          "base_uri": "https://localhost:8080/"
        },
        "id": "O5xrfjKOqqRz",
        "outputId": "97d00364-9fc5-4d35-df39-447cf3f9df21"
      },
      "execution_count": 7,
      "outputs": [
        {
          "output_type": "stream",
          "name": "stdout",
          "text": [
            "Standard Deviation of dependent_var:\n",
            "1.9059520091609048\n",
            "Standard Deviation of independent_var:\n",
            "1.979486637221574\n",
            "Standard Deviation of dependent_var+independent_var:\n",
            "1.7728105208558367\n"
          ]
        }
      ]
    },
    {
      "cell_type": "code",
      "source": [
        "\n",
        "print(\"Range of dependent_var:\")\n",
        "print(np.max(dependent_var)-np.min(dependent_var))\n",
        "print(\"Range of independent_var:\")\n",
        "print(np.max(independent_var)-np.min(independent_var))\n",
        "print(\"Range of dependent_var+independent_var:\")\n",
        "print(np.max(dependent_var+independent_var)-np.\n",
        "↪min(dependent_var+independent_var))"
      ],
      "metadata": {
        "colab": {
          "base_uri": "https://localhost:8080/",
          "height": 106
        },
        "id": "HMQV4jk-quPa",
        "outputId": "a7f837ad-88a8-4d44-9298-85a9696df9a9"
      },
      "execution_count": 8,
      "outputs": [
        {
          "output_type": "error",
          "ename": "SyntaxError",
          "evalue": "invalid character '↪' (U+21AA) (<ipython-input-8-519c5f1d86db>, line 7)",
          "traceback": [
            "\u001b[0;36m  File \u001b[0;32m\"<ipython-input-8-519c5f1d86db>\"\u001b[0;36m, line \u001b[0;32m7\u001b[0m\n\u001b[0;31m    ↪min(dependent_var+independent_var))\u001b[0m\n\u001b[0m    ^\u001b[0m\n\u001b[0;31mSyntaxError\u001b[0m\u001b[0;31m:\u001b[0m invalid character '↪' (U+21AA)\n"
          ]
        }
      ]
    },
    {
      "cell_type": "code",
      "source": [
        "\n",
        "print(\"IQR of dependent_var:\")\n",
        "print(iqr(dependent_var))\n",
        "print(\"IQR of independent_var:\")\n",
        "print(iqr(independent_var))\n",
        "print(\"IQR of dependent_var+independent_var:\")\n",
        "print(iqr(dependent_var+independent_var))\n"
      ],
      "metadata": {
        "colab": {
          "base_uri": "https://localhost:8080/"
        },
        "id": "8TuaLMwPqwEl",
        "outputId": "13d1d789-d9ec-451c-f3fc-4b8e7a76afa3"
      },
      "execution_count": 9,
      "outputs": [
        {
          "output_type": "stream",
          "name": "stdout",
          "text": [
            "IQR of dependent_var:\n",
            "2.0\n",
            "IQR of independent_var:\n",
            "3.5\n",
            "IQR of dependent_var+independent_var:\n",
            "2.0\n"
          ]
        }
      ]
    },
    {
      "cell_type": "code",
      "source": [
        "d =pd.read_csv(\"/content/housing.csv\")\n",
        "print(d)"
      ],
      "metadata": {
        "colab": {
          "base_uri": "https://localhost:8080/"
        },
        "id": "eT53Legtq1IW",
        "outputId": "d5ef012c-afac-4ed3-8cae-1f3331cae223"
      },
      "execution_count": 10,
      "outputs": [
        {
          "output_type": "stream",
          "name": "stdout",
          "text": [
            "       longitude  latitude  housing_median_age  total_rooms  total_bedrooms  \\\n",
            "0        -122.23     37.88                41.0        880.0           129.0   \n",
            "1        -122.22     37.86                21.0       7099.0          1106.0   \n",
            "2        -122.24     37.85                52.0       1467.0           190.0   \n",
            "3        -122.25     37.85                52.0       1274.0           235.0   \n",
            "4        -122.25     37.85                52.0       1627.0           280.0   \n",
            "...          ...       ...                 ...          ...             ...   \n",
            "20635    -121.09     39.48                25.0       1665.0           374.0   \n",
            "20636    -121.21     39.49                18.0        697.0           150.0   \n",
            "20637    -121.22     39.43                17.0       2254.0           485.0   \n",
            "20638    -121.32     39.43                18.0       1860.0           409.0   \n",
            "20639    -121.24     39.37                16.0       2785.0           616.0   \n",
            "\n",
            "       population  households  median_income  median_house_value  \\\n",
            "0           322.0       126.0         8.3252            452600.0   \n",
            "1          2401.0      1138.0         8.3014            358500.0   \n",
            "2           496.0       177.0         7.2574            352100.0   \n",
            "3           558.0       219.0         5.6431            341300.0   \n",
            "4           565.0       259.0         3.8462            342200.0   \n",
            "...           ...         ...            ...                 ...   \n",
            "20635       845.0       330.0         1.5603             78100.0   \n",
            "20636       356.0       114.0         2.5568             77100.0   \n",
            "20637      1007.0       433.0         1.7000             92300.0   \n",
            "20638       741.0       349.0         1.8672             84700.0   \n",
            "20639      1387.0       530.0         2.3886             89400.0   \n",
            "\n",
            "      ocean_proximity  \n",
            "0            NEAR BAY  \n",
            "1            NEAR BAY  \n",
            "2            NEAR BAY  \n",
            "3            NEAR BAY  \n",
            "4            NEAR BAY  \n",
            "...               ...  \n",
            "20635          INLAND  \n",
            "20636          INLAND  \n",
            "20637          INLAND  \n",
            "20638          INLAND  \n",
            "20639          INLAND  \n",
            "\n",
            "[20640 rows x 10 columns]\n"
          ]
        }
      ]
    },
    {
      "cell_type": "code",
      "source": [
        "print(\"MeanValue oflongitude\")\n",
        "print(np.mean(d['longitude']))\n",
        "print(\"MeanValue oflatitude\")\n",
        "print(np.mean(d['latitude']))\n",
        "print(\"MeanValue ofhousing_median_age\")\n",
        "print(np.mean(d['housing_median_age']))\n",
        "print(\"MeanValue oftotal_rooms\")\n",
        "print(np.mean(d['total_rooms']))\n",
        "print(\"MeanValue oftotal_bedrooms\")\n",
        "print(np.mean(d['total_bedrooms']))\n",
        "print(\"Mean Value of population\")\n",
        "print(np.mean(d['population']))\n",
        "print(\"Mean Value of households\")\n",
        "print(np.mean(d['households']))\n",
        "print(\"Mean Value of median_income\")\n",
        "print(np.mean(d['median_income']))\n",
        "print(\"Mean Value of median_house_value\")\n",
        "print(np.mean(d['median_house_value']))\n",
        "\n"
      ],
      "metadata": {
        "colab": {
          "base_uri": "https://localhost:8080/"
        },
        "id": "VHjVzKl9rDQA",
        "outputId": "b4518a08-a6d8-4228-89ae-3cbadfb46377"
      },
      "execution_count": 11,
      "outputs": [
        {
          "output_type": "stream",
          "name": "stdout",
          "text": [
            "MeanValue oflongitude\n",
            "-119.56970445736432\n",
            "MeanValue oflatitude\n",
            "35.63186143410853\n",
            "MeanValue ofhousing_median_age\n",
            "28.639486434108527\n",
            "MeanValue oftotal_rooms\n",
            "2635.7630813953488\n",
            "MeanValue oftotal_bedrooms\n",
            "537.8705525375618\n",
            "Mean Value of population\n",
            "1425.4767441860465\n",
            "Mean Value of households\n",
            "499.5396802325581\n",
            "Mean Value of median_income\n",
            "3.8706710029069766\n",
            "Mean Value of median_house_value\n",
            "206855.81690891474\n"
          ]
        }
      ]
    },
    {
      "cell_type": "code",
      "source": [
        "print(\"Median Value of longitude\")\n",
        "print(np.median(d['longitude']))\n",
        "print(\"Median Value of latitude\")\n",
        "print(np.median(d['latitude']))\n",
        "print(\"Median Value of housing_median_age\")\n",
        "print(np.median(d['housing_median_age']))\n",
        "print(\"Median Value of total_rooms\")\n",
        "print(np.median(d['total_rooms']))\n",
        "print(\"Median Value of total_bedrooms\")\n",
        "print(np.median(d['total_bedrooms']))\n",
        "print(\"Median Value of population\")\n",
        "print(np.median(d['population']))\n",
        "print(\"Median Value of households\")\n",
        "print(np.median(d['households']))\n",
        "print(\"Median Value of median_income\")\n",
        "print(np.median(d['median_income']))\n",
        "print(\"Median Value of median_house_value\")\n",
        "print(np.median(d['median_house_value']))\n"
      ],
      "metadata": {
        "colab": {
          "base_uri": "https://localhost:8080/"
        },
        "id": "0SoF_6eyrG7_",
        "outputId": "b71d45b6-4d52-42d7-a80b-fdbd0a024dd7"
      },
      "execution_count": 12,
      "outputs": [
        {
          "output_type": "stream",
          "name": "stdout",
          "text": [
            "Median Value of longitude\n",
            "-118.49\n",
            "Median Value of latitude\n",
            "34.26\n",
            "Median Value of housing_median_age\n",
            "29.0\n",
            "Median Value of total_rooms\n",
            "2127.0\n",
            "Median Value of total_bedrooms\n",
            "nan\n",
            "Median Value of population\n",
            "1166.0\n",
            "Median Value of households\n",
            "409.0\n",
            "Median Value of median_income\n",
            "3.5347999999999997\n",
            "Median Value of median_house_value\n",
            "179700.0\n"
          ]
        }
      ]
    },
    {
      "cell_type": "code",
      "source": [
        "print(\"Mode Value of longitude\")\n",
        "print(d['longitude'].mode())\n",
        "print(\"\")\n",
        "print(\"Mode Value of latitude\")\n",
        "print(d['latitude'].mode())\n",
        "print(\"\")\n",
        "print(\"Mode Value of housing_median_age\")\n",
        "print(d['housing_median_age'].mode())\n",
        "print(\"\")\n",
        "print(\"Mode Value of total_rooms\")\n",
        "print(d['total_rooms'].mode())\n",
        "print(\"\")\n",
        "print(\"Mode Value of total_bedrooms\")\n",
        "print(d['total_bedrooms'].mode())\n",
        "print(\"\")\n",
        "print(\"Mode Value of population\")\n",
        "print(d['population'].mode())\n",
        "print(\"\")\n",
        "print(\"Mode Value of households\")\n",
        "print(d['households'].mode())\n",
        "print(\"\")\n",
        "print(\"Mode Value of median_income\")\n",
        "print(d['median_income'].mode())\n",
        "print(\"\")\n",
        "print(\"Mode Value of median_house_value\")\n",
        "print(d['median_house_value'].mode())\n"
      ],
      "metadata": {
        "colab": {
          "base_uri": "https://localhost:8080/"
        },
        "id": "wdZJUvqtrLEh",
        "outputId": "d80856fb-31ad-444e-df65-d5b906efe380"
      },
      "execution_count": 13,
      "outputs": [
        {
          "output_type": "stream",
          "name": "stdout",
          "text": [
            "Mode Value of longitude\n",
            "0   -118.31\n",
            "Name: longitude, dtype: float64\n",
            "\n",
            "Mode Value of latitude\n",
            "0    34.06\n",
            "Name: latitude, dtype: float64\n",
            "\n",
            "Mode Value of housing_median_age\n",
            "0    52.0\n",
            "Name: housing_median_age, dtype: float64\n",
            "\n",
            "Mode Value of total_rooms\n",
            "0    1527.0\n",
            "Name: total_rooms, dtype: float64\n",
            "\n",
            "Mode Value of total_bedrooms\n",
            "0    280.0\n",
            "Name: total_bedrooms, dtype: float64\n",
            "\n",
            "Mode Value of population\n",
            "0    891.0\n",
            "Name: population, dtype: float64\n",
            "\n",
            "Mode Value of households\n",
            "0    306.0\n",
            "Name: households, dtype: float64\n",
            "\n",
            "Mode Value of median_income\n",
            "0     3.1250\n",
            "1    15.0001\n",
            "Name: median_income, dtype: float64\n",
            "\n",
            "Mode Value of median_house_value\n",
            "0    500001.0\n",
            "Name: median_house_value, dtype: float64\n"
          ]
        }
      ]
    },
    {
      "cell_type": "code",
      "source": [
        "print(\"Variance Value of longitude\")\n",
        "print(np.var(d['longitude']))\n",
        "print(\"\")\n",
        "print(\"Variance Value of latitude\")\n",
        "print(np.var(d['latitude']))\n",
        "print(\"\")\n",
        "print(\"Variance Value of housing_median_age\")\n",
        "print(np.var(d['housing_median_age']))\n",
        "print(\"\")\n",
        "print(\"Variance Value of total_rooms\")\n",
        "print(np.var(d['total_rooms']))\n",
        "print(\"\")\n",
        "print(\"Variance Value of total_bedrooms\")\n",
        "print(np.var(d['total_bedrooms']))\n",
        "print(\"\")\n",
        "print(\"Variance Value of population\")\n",
        "print(np.var(d['population']))\n",
        "print(\"\")\n",
        "print(\"Variance Value of households\")\n",
        "print(np.var(d['households']))\n",
        "print(\"\")\n",
        "print(\"Variance Value of median_income\")\n",
        "print(np.var(d['median_income']))\n",
        "print(\"\")\n",
        "print(\"Variance Value of median_house_value\")\n",
        "print(np.var(d['median_house_value']))\n"
      ],
      "metadata": {
        "colab": {
          "base_uri": "https://localhost:8080/"
        },
        "id": "Y1Xqum-frO7W",
        "outputId": "ca9014cd-21ab-4360-9a94-932f7f160ee8"
      },
      "execution_count": 14,
      "outputs": [
        {
          "output_type": "stream",
          "name": "stdout",
          "text": [
            "Variance Value of longitude\n",
            "4.0139448835847835\n",
            "\n",
            "Variance Value of latitude\n",
            "4.562071602892517\n",
            "\n",
            "Variance Value of housing_median_age\n",
            "158.38858617035862\n",
            "\n",
            "Variance Value of total_rooms\n",
            "4759214.512668024\n",
            "\n",
            "Variance Value of total_bedrooms\n",
            "177556.6871536956\n",
            "\n",
            "Variance Value of population\n",
            "1282408.3220366866\n",
            "\n",
            "Variance Value of households\n",
            "146168.95772780472\n",
            "\n",
            "Variance Value of median_income\n",
            "3.609147689697444\n",
            "\n",
            "Variance Value of median_house_value\n",
            "13315503000.818077\n"
          ]
        }
      ]
    },
    {
      "cell_type": "code",
      "source": [
        "print(\"Standard Deviation Value of longitude\")\n",
        "print(np.std(d['longitude']))\n",
        "print(\"\")\n",
        "print(\"Standard Deviation Value of latitude\")\n",
        "print(np.std(d['latitude']))\n",
        "print(\"\")\n",
        "print(\"Standard Deviation Value of housing_median_age\")\n",
        "print(np.std(d['housing_median_age']))\n",
        "print(\"\")\n",
        "print(\"Standard Deviation Value of total_rooms\")\n",
        "print(np.std(d['total_rooms']))\n",
        "print(\"\")\n",
        "print(\"Standard Deviation Value of total_bedrooms\")\n",
        "print(np.std(d['total_bedrooms']))\n",
        "print(\"\")\n",
        "print(\"Standard Deviation Value of population\")\n",
        "print(np.std(d['population']))\n",
        "print(\"\")\n",
        "print(\"Standard Deviation Value of households\")\n",
        "print(np.std(d['households']))\n",
        "print(\"\")\n",
        "print(\"Standard Deviation Value of median_income\")\n",
        "print(np.std(d['median_income']))\n",
        "print(\"\")\n",
        "print(\"Standard Deviation Value of median_house_value\")\n",
        "print(np.std(d['median_house_value']))"
      ],
      "metadata": {
        "colab": {
          "base_uri": "https://localhost:8080/"
        },
        "id": "tzTvpbOOrTIK",
        "outputId": "5aaae68c-d6b3-4de3-a769-4029a4ea2dcd"
      },
      "execution_count": 15,
      "outputs": [
        {
          "output_type": "stream",
          "name": "stdout",
          "text": [
            "Standard Deviation Value of longitude\n",
            "2.003483187746976\n",
            "\n",
            "Standard Deviation Value of latitude\n",
            "2.135900653797483\n",
            "\n",
            "Standard Deviation Value of housing_median_age\n",
            "12.585252725724606\n",
            "\n",
            "Standard Deviation Value of total_rooms\n",
            "2181.5624017359723\n",
            "\n",
            "Standard Deviation Value of total_bedrooms\n",
            "421.37475856260727\n",
            "\n",
            "Standard Deviation Value of population\n",
            "1132.434687757615\n",
            "\n",
            "Standard Deviation Value of households\n",
            "382.3204908552571\n",
            "\n",
            "Standard Deviation Value of median_income\n",
            "1.8997756945748738\n",
            "\n",
            "Standard Deviation Value of median_house_value\n",
            "115392.82040412253\n"
          ]
        }
      ]
    },
    {
      "cell_type": "code",
      "source": [
        "print(\"Range value of longitude\")\n",
        "print(np.max(d['longitude'])-np.min(d['longitude']))\n",
        "print(\"\")\n",
        "print(\"Range value of latitude\")\n",
        "print(np.max(d['latitude'])-np.min(d['latitude']))\n",
        "print(\"\")\n",
        "print(\"Range value of housing_median_age\")\n",
        "print(np.max(d['housing_median_age'])-np.min(d['housing_median_age']))\n",
        "print(\"\")\n",
        "print(\"Range value of total_rooms\")\n",
        "print(np.max(d['total_rooms'])-np.min(d['total_rooms']))\n",
        "print(\"\")\n",
        "print(\"Range value of total_bedrooms\")\n",
        "print(np.max(d['total_bedrooms'])-np.min(d['total_bedrooms']))\n",
        "print(\"\")\n",
        "print(\"Range value of population\")\n",
        "print(np.max(d['population'])-np.min(d['population']))\n",
        "print(\"\")\n",
        "print(\"Range value of households\")\n",
        "print(np.max(d['households'])-np.min(d['households']))\n",
        "print(\"\")\n",
        "print(\"Range value of median_income\")\n",
        "print(np.max(d['median_income'])-np.min(d['median_income']))\n",
        "print(\"\")\n",
        "print(\"Range value of median_house_value\")\n",
        "print(np.max(d['median_house_value'])-np.min(d['median_house_value']))"
      ],
      "metadata": {
        "colab": {
          "base_uri": "https://localhost:8080/"
        },
        "id": "eiKzqVvjraZh",
        "outputId": "413893cd-13e2-45d6-e4cd-4b7fbd76c2c1"
      },
      "execution_count": 16,
      "outputs": [
        {
          "output_type": "stream",
          "name": "stdout",
          "text": [
            "Range value of longitude\n",
            "10.039999999999992\n",
            "\n",
            "Range value of latitude\n",
            "9.410000000000004\n",
            "\n",
            "Range value of housing_median_age\n",
            "51.0\n",
            "\n",
            "Range value of total_rooms\n",
            "39318.0\n",
            "\n",
            "Range value of total_bedrooms\n",
            "6444.0\n",
            "\n",
            "Range value of population\n",
            "35679.0\n",
            "\n",
            "Range value of households\n",
            "6081.0\n",
            "\n",
            "Range value of median_income\n",
            "14.5002\n",
            "\n",
            "Range value of median_house_value\n",
            "485002.0\n"
          ]
        }
      ]
    },
    {
      "cell_type": "code",
      "source": [
        "print(\"IQR value of longitude\")\n",
        "iqr_longitude = iqr(d['longitude'])\n",
        "print(iqr_longitude)\n",
        "print(\"\")\n",
        "print(\"IQR value of latitude\")\n",
        "iqr_latitude = iqr(d['latitude'])\n",
        "print(iqr_latitude)\n",
        "print(\"\")\n",
        "print(\"IQR value of housing_median_age\")\n",
        "iqr_housing_median_age= iqr(d['housing_median_age'])\n",
        "print(iqr_housing_median_age)\n",
        "print(\"\")\n",
        "print(\"IQR value of total_rooms\")\n",
        "iqr_total_rooms = iqr(d['total_rooms'])\n",
        "print(iqr_total_rooms)\n",
        "print(\"\")\n",
        "print(\"IQR value of total_bedrooms\")\n",
        "iqr_total_bedrooms = iqr(d['total_bedrooms'])\n",
        "print(iqr_total_bedrooms)\n",
        "print(\"\")\n",
        "print(\"IQR value of population\")\n",
        "iqr_population = iqr(d['population'])\n",
        "print(iqr_population)\n",
        "print(\"\")\n",
        "print(\"IQR value of households\")\n",
        "iqr_households = iqr(d['households'])\n",
        "print(iqr_households)\n",
        "print(\"\")\n",
        "print(\"IQR value of median_income\")\n",
        "iqr_median_income = iqr(d['median_income'])\n",
        "print(iqr_median_income)\n",
        "print(\"\")\n",
        "print(\"IQR value of median_house_value\")\n",
        "iqr_median_house_value = iqr(d['median_house_value'])\n",
        "print(iqr_median_house_value)"
      ],
      "metadata": {
        "colab": {
          "base_uri": "https://localhost:8080/"
        },
        "id": "CnyDCpBTrfFQ",
        "outputId": "f870f52e-2a86-458a-e981-e18bf365d238"
      },
      "execution_count": 17,
      "outputs": [
        {
          "output_type": "stream",
          "name": "stdout",
          "text": [
            "IQR value of longitude\n",
            "3.789999999999992\n",
            "\n",
            "IQR value of latitude\n",
            "3.780000000000001\n",
            "\n",
            "IQR value of housing_median_age\n",
            "19.0\n",
            "\n",
            "IQR value of total_rooms\n",
            "1700.25\n",
            "\n",
            "IQR value of total_bedrooms\n",
            "nan\n",
            "\n",
            "IQR value of population\n",
            "938.0\n",
            "\n",
            "IQR value of households\n",
            "325.0\n",
            "\n",
            "IQR value of median_income\n",
            "2.17985\n",
            "\n",
            "IQR value of median_house_value\n",
            "145125.0\n"
          ]
        }
      ]
    },
    {
      "cell_type": "code",
      "source": [
        "print(\"Skewness value of longitude\")\n",
        "skewness_longitude = skew(d['longitude'],axis=0,bias=True)\n",
        "print(skewness_longitude)\n",
        "print(\"\")\n",
        "print(\"Skewness value of latitude\")\n",
        "skewness_latitude = skew(d['latitude'],axis=0,bias=True)\n",
        "print(skewness_latitude)\n",
        "print(\"\")\n",
        "print(\"skewness value of housing_median_age\")\n",
        "skewness_housing_median_age = skew(d['housing_median_age'],axis=0,bias=True)\n",
        "print(skewness_housing_median_age)\n",
        "print(\"\")\n",
        "print(\"skewness value of total_rooms\")\n",
        "skewness_total_rooms = skew(d['total_rooms'],axis=0,bias=True)\n",
        "print(skewness_total_rooms)\n",
        "print(\"\")\n",
        "print(\"skewness value of total_bedrooms\")\n",
        "skewness_total_bedrooms = skew(d['total_bedrooms'],axis=0,bias=True)\n",
        "print(skewness_total_bedrooms)\n",
        "print(\"\")\n",
        "print(\"skewness value of population\")\n",
        "skewness_population = skew(d['population'],axis=0,bias=True)\n",
        "print(skewness_population)\n",
        "print(\"\")\n",
        "print(\"skewness value of households\")\n",
        "skewness_households = skew(d['households'],axis=0,bias=True)\n",
        "print(skewness_households)\n",
        "print(\"\")\n",
        "print(\"skewness value of median_income\")\n",
        "skewness_median_income = skew(d['median_income'],axis=0,bias=True)\n",
        "print(skewness_median_income)\n",
        "print(\"\")\n",
        "print(\"skewness value of median_house_value\")\n",
        "skewness_median_house_value = skew(d['median_house_value'],axis=0,bias=True)\n",
        "print(skewness_median_house_value)"
      ],
      "metadata": {
        "colab": {
          "base_uri": "https://localhost:8080/"
        },
        "id": "qFeaJXsjrj5v",
        "outputId": "b693852f-2db4-412b-ba4f-dcc9fae056ea"
      },
      "execution_count": 18,
      "outputs": [
        {
          "output_type": "stream",
          "name": "stdout",
          "text": [
            "Skewness value of longitude\n",
            "-0.29777956498586855\n",
            "\n",
            "Skewness value of latitude\n",
            "0.46591914016270397\n",
            "\n",
            "skewness value of housing_median_age\n",
            "0.06032625301661101\n",
            "\n",
            "skewness value of total_rooms\n",
            "4.147042038773343\n",
            "\n",
            "skewness value of total_bedrooms\n",
            "nan\n",
            "\n",
            "skewness value of population\n",
            "4.93549950885852\n",
            "\n",
            "skewness value of households\n",
            "3.4101898550856307\n",
            "\n",
            "skewness value of median_income\n",
            "1.64653702990008\n",
            "\n",
            "skewness value of median_house_value\n",
            "0.9776922140978416\n"
          ]
        }
      ]
    },
    {
      "cell_type": "code",
      "source": [
        "print(\"Kurtosis value of longitude\")\n",
        "longitude = kurtosis(d['longitude'],axis=0,bias=True)\n",
        "print(longitude)\n",
        "print(\"\")\n",
        "print(\"Kurtosis value of latitude\")\n",
        "latitude = kurtosis(d['latitude'],axis=0,bias=True)\n",
        "print(latitude)\n",
        "print(\"\")\n",
        "print(\"Kurtosis value of housing_median_age\")\n",
        "housing_median_age = kurtosis(d['housing_median_age'],axis=0,bias=True)\n",
        "print(housing_median_age)\n",
        "print(\"\")\n",
        "print(\"Kurtosis value of total_rooms\")\n",
        "total_rooms = kurtosis(d['total_rooms'],axis=0,bias=True)\n",
        "print(total_rooms)\n",
        "print(\"\")\n",
        "print(\"Kurtosis value of total_bedrooms\")\n",
        "total_bedrooms = kurtosis(d['total_bedrooms'],axis=0,bias=True)\n",
        "print(total_bedrooms)\n",
        "print(\"\")\n",
        "print(\"Kurtosis value of population\")\n",
        "population = kurtosis(d['population'],axis=0,bias=True)\n",
        "print(population)\n",
        "print(\"\")\n",
        "print(\"Kurtosis value of households\")\n",
        "households = kurtosis(d['households'],axis=0,bias=True)\n",
        "print(households)\n",
        "print(\"\")\n",
        "print(\"Kurtosis value of median_income\")\n",
        "median_income = kurtosis(d['median_income'],axis=0,bias=True)\n",
        "print(median_income)\n",
        "print(\"\")\n",
        "print(\"Kurtosis value of median_house_value\")\n",
        "median_house_value = kurtosis(d['median_house_value'],axis=0,bias=True)\n",
        "print(median_house_value)"
      ],
      "metadata": {
        "colab": {
          "base_uri": "https://localhost:8080/"
        },
        "id": "alVEqGKmrpeG",
        "outputId": "307dcf30-6ad0-4e38-cf26-bdee268f9dbd"
      },
      "execution_count": 19,
      "outputs": [
        {
          "output_type": "stream",
          "name": "stdout",
          "text": [
            "Kurtosis value of longitude\n",
            "-1.3301208448425363\n",
            "\n",
            "Kurtosis value of latitude\n",
            "-1.117779708313892\n",
            "\n",
            "Kurtosis value of housing_median_age\n",
            "-0.8007255995444988\n",
            "\n",
            "Kurtosis value of total_rooms\n",
            "32.6227320729488\n",
            "\n",
            "Kurtosis value of total_bedrooms\n",
            "nan\n",
            "\n",
            "Kurtosis value of population\n",
            "73.53500881922278\n",
            "\n",
            "Kurtosis value of households\n",
            "22.052354233642966\n",
            "\n",
            "Kurtosis value of median_income\n",
            "4.951033760409659\n",
            "\n",
            "Kurtosis value of median_house_value\n",
            "0.3275001388119616\n"
          ]
        }
      ]
    }
  ]
}