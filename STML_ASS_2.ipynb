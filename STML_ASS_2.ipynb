{
  "nbformat": 4,
  "nbformat_minor": 0,
  "metadata": {
    "colab": {
      "provenance": [],
      "authorship_tag": "ABX9TyNm6oKIetRY8LUH+v5KnHfx",
      "include_colab_link": true
    },
    "kernelspec": {
      "name": "python3",
      "display_name": "Python 3"
    },
    "language_info": {
      "name": "python"
    }
  },
  "cells": [
    {
      "cell_type": "markdown",
      "metadata": {
        "id": "view-in-github",
        "colab_type": "text"
      },
      "source": [
        "<a href=\"https://colab.research.google.com/github/thotasriharsha/STML/blob/main/STML_ASS_2.ipynb\" target=\"_parent\"><img src=\"https://colab.research.google.com/assets/colab-badge.svg\" alt=\"Open In Colab\"/></a>"
      ]
    },
    {
      "cell_type": "markdown",
      "source": [
        "Question 1"
      ],
      "metadata": {
        "id": "ezoRuukNoGg1"
      }
    },
    {
      "cell_type": "code",
      "source": [
        "import numpy as np\n",
        "import matplotlib.pyplot as plt\n",
        "#Given dataset\n",
        "x=[1.3,1.5,2.6, 2.6, 3.2,3.9,4.2,3.7,3.10,3.0,11,6.7,1.9]\n",
        "#number of bins\n",
        "num_bin=5\n",
        "#compute the histogram\n",
        "counts, bin_edges=np.histogram(x,bins=num_bin, density=True)\n",
        "#calculate the width of eachbin\n",
        "bin_width=np.diff(bin_edges)\n",
        "#calculate the density of eachbin\n",
        "density=counts*bin_width\n",
        "#print the binedges, counts and density\n",
        "print(\"bin edges:\", bin_edges)\n",
        "print(\"counts (density values): \", counts)\n",
        "print(\"density values adjusted for bin width:\", density)\n",
        "#plot the histogram\n",
        "plt.hist(x,bins=num_bin, density=True, edgecolor='Red')\n",
        "plt.xlabel('data')\n",
        "plt.ylabel('density')\n",
        "plt.title('Histogram with density')\n",
        "plt.show()"
      ],
      "metadata": {
        "colab": {
          "base_uri": "https://localhost:8080/",
          "height": 544
        },
        "id": "ZVBHngy8oKCZ",
        "outputId": "2b33b0ef-9d7e-497a-f1b3-d898f4641ef0"
      },
      "execution_count": 1,
      "outputs": [
        {
          "output_type": "stream",
          "name": "stdout",
          "text": [
            "bin edges: [ 1.3   3.24  5.18  7.12  9.06 11.  ]\n",
            "counts (density values):  [0.31720856 0.11895321 0.03965107 0.         0.03965107]\n",
            "density values adjusted for bin width: [0.61538462 0.23076923 0.07692308 0.         0.07692308]\n"
          ]
        },
        {
          "output_type": "display_data",
          "data": {
            "text/plain": [
              "<Figure size 640x480 with 1 Axes>"
            ],
            "image/png": "[encoded data removed]"
          },
          "metadata": {}
        }
      ]
    },
    {
      "cell_type": "markdown",
      "source": [
        "Question 2"
      ],
      "metadata": {
        "id": "0ZMm2nPAoVGz"
      }
    },
    {
      "cell_type": "code",
      "source": [
        "import numpy as np\n",
        "import pandas as pd\n",
        "from scipy import stats\n",
        "import matplotlib.pyplot as plt\n",
        "dependent_variables=[12,13,56, 23, 41, 28,51]\n",
        "indedent_variables=[51,63,37,88,33,72,81]\n",
        "#mean\n",
        "mean_x=np.mean (indedent_variables)\n",
        "mean_y=np.mean (dependent_variables)\n",
        "print(\"mean of x:\", mean_x)\n",
        "print(\"mean of y:\", mean_y)\n",
        "#median\n",
        "median_x=np.median(indedent_variables)\n",
        "median_y=np.median (dependent_variables)\n",
        "print(\"median of x:\", median_x)\n",
        "print(\"median of y:\", median_y)\n",
        "#mode\n",
        "mode_x=stats.mode (indedent_variables)\n",
        "mode_y=stats.mode(dependent_variables)\n",
        "print(\"mode of x:\", mode_x)\n",
        "print(\"mode of y:\", mode_y)\n",
        "#variance\n",
        "var_x=np.var(indedent_variables)\n",
        "var_y=np.var(dependent_variables)\n",
        "print(\"variance of x:\", var_x)\n",
        "print(\"variance of y:\", var_y)\n",
        "#standard deviation\n",
        "std_x=np.std(indedent_variables)\n",
        "std_y=np.std(dependent_variables)\n",
        "print(\"standard deviation of x:\", std_x)\n",
        "print(\"standard deviation of y:\", std_y)\n",
        "#range\n",
        "range_x=np.max(indedent_variables)-np.min(indedent_variables)\n",
        "range_y=np.max(dependent_variables)-np.min(dependent_variables)\n",
        "print(\"range of x:\", range_x)\n",
        "print(\"range of y:\", range_y)\n",
        "#interquartile(IQR)\n",
        "q1_x=np.percentile (indedent_variables, 25)\n",
        "q3_x=np.percentile(indedent_variables, 75)\n",
        "iqr_x=q3_x-q1_x\n",
        "print(\"interquartile range of x:\", iqr_x)\n",
        "q1_y=np.percentile (dependent_variables, 25)\n",
        "q3_y=np.percentile (dependent_variables, 75)\n",
        "iqr_y=q3_y-q1_y\n",
        "print(\"interquartile range of y:\", iqr_y)\n",
        "#skewness\n",
        "skew_x=stats.skew(indedent_variables)\n",
        "skew_y=stats.skew(dependent_variables)\n",
        "print(\"skewness of x:\", skew_x)\n",
        "print(\"skewness of y:\", skew_y)\n",
        "#kurtosis\n",
        "kurt_x=stats.kurtosis (indedent_variables)\n",
        "kurt_y=stats.kurtosis (dependent_variables)\n",
        "print(\"kurtosis of x:\", kurt_x)\n",
        "print(\"kurtosis of y:\", kurt_y)\n",
        ""
      ],
      "metadata": {
        "colab": {
          "base_uri": "https://localhost:8080/"
        },
        "id": "tkxTI8YIoX96",
        "outputId": "faf22b3d-9a0f-407d-8acf-7ae28f3be3d1"
      },
      "execution_count": 2,
      "outputs": [
        {
          "output_type": "stream",
          "name": "stdout",
          "text": [
            "mean of x: 60.714285714285715\n",
            "mean of y: 32.0\n",
            "median of x: 63.0\n",
            "median of y: 28.0\n",
            "mode of x: ModeResult(mode=33, count=1)\n",
            "mode of y: ModeResult(mode=12, count=1)\n",
            "variance of x: 387.6326530612245\n",
            "variance of y: 268.0\n",
            "standard deviation of x: 19.68838878784205\n",
            "standard deviation of y: 16.3707055437449\n",
            "range of x: 55\n",
            "range of y: 44\n",
            "interquartile range of x: 32.5\n",
            "interquartile range of y: 28.0\n",
            "skewness of x: -0.10160487226954186\n",
            "skewness of y: 0.18755223867066048\n",
            "kurtosis of x: -1.4265295827972655\n",
            "kurtosis of y: -1.47684021258314\n"
          ]
        }
      ]
    },
    {
      "cell_type": "markdown",
      "source": [
        "Question 3"
      ],
      "metadata": {
        "id": "FKrlt8kvojZ1"
      }
    },
    {
      "cell_type": "code",
      "source": [
        "print(\"standard deviation of y:\", std_y)\n",
        "#range\n",
        "range_x=np.max(indedent_variables)-np.min(indedent_variables)\n",
        "range_y=np.max(dependent_variables)-np.min(dependent_variables)\n",
        "print(\"range of x:\", range_x)\n",
        "print(\"range of y:\", range_y)\n",
        "#interquartile(IQR)\n",
        "q1_x=np.percentile (indedent_variables, 25)\n",
        "q3_x=np.percentile(indedent_variables, 75)\n",
        "iqr_x=q3_x-q1_x\n",
        "print(\"interquartile range of x:\", iqr_x)\n",
        "q1_y=np.percentile (dependent_variables, 25)\n",
        "q3_y=np.percentile (dependent_variables, 75)\n",
        "iqr_y=q3_y-q1_y\n",
        "print(\"interquartile range of y:\", iqr_y)\n",
        "#skewness\n",
        "skew_x=stats.skew(indedent_variables)\n",
        "skew_y=stats.skew(dependent_variables)\n",
        "print(\"skewness of x:\", skew_x)\n",
        "print(\"skewness of y:\", skew_y)\n",
        "#kurtosis\n",
        "kurt_x=stats.kurtosis (indedent_variables)\n",
        "kurt_y=stats.kurtosis (dependent_variables)\n",
        "print(\"kurtosis of x:\", kurt_x)\n",
        "print(\"kurtosis of y:\", kurt_y)"
      ],
      "metadata": {
        "colab": {
          "base_uri": "https://localhost:8080/"
        },
        "id": "e-Pmg2I1okTI",
        "outputId": "76eb5a14-4567-40ec-b01f-353daf2066cf"
      },
      "execution_count": 3,
      "outputs": [
        {
          "output_type": "stream",
          "name": "stdout",
          "text": [
            "standard deviation of y: 16.3707055437449\n",
            "range of x: 55\n",
            "range of y: 44\n",
            "interquartile range of x: 32.5\n",
            "interquartile range of y: 28.0\n",
            "skewness of x: -0.10160487226954186\n",
            "skewness of y: 0.18755223867066048\n",
            "kurtosis of x: -1.4265295827972655\n",
            "kurtosis of y: -1.47684021258314\n"
          ]
        }
      ]
    }
  ]
}